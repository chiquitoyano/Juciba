{
  "cells": [
    {
      "cell_type": "markdown",
      "metadata": {
        "id": "view-in-github",
        "colab_type": "text"
      },
      "source": [
        "<a href=\"https://colab.research.google.com/github/chiquitoyano/Juciba/blob/master/CIPIRAN_JULIO_CESAR.ipynb\" target=\"_parent\"><img src=\"https://colab.research.google.com/assets/colab-badge.svg\" alt=\"Open In Colab\"/></a>"
      ]
    },
    {
      "cell_type": "markdown",
      "id": "45e0e77c",
      "metadata": {
        "id": "45e0e77c"
      },
      "source": [
        "# Exámen\n",
        "\n",
        "### Fecha entrega: Martes 12 de Julio hasta las 11:59 AM . Subir a Blackboard\n",
        "\n",
        "### Se debe entregar en un archivo tipo jupyter-notebook (.ipynb) comprimido en un .zip o .rar\n",
        "Para ello, una vez que finalice debe ir a `File` --> `Download as` --> `Notebook (.ipynb)`\n",
        "\n",
        "[Puede ser este mismo notebook, pero recuerde cambiar el nombre del archivo como se especifica a continuación y hacer una copia para que pueda guardar los cambios]\n",
        "\n",
        "La cátedra recuperativa es de forma individual. Coloque como nombre al archivo: Apellido_Nombre.ipynb (1 pto)\n",
        "\n",
        "    Por favor lea bien las instrucciones de lo que se pide.\n",
        "\n",
        "    Todos los programas deben ejecutarse con Python 3\n",
        "\n",
        "    Por favor, limpie el código y las lineas no utilizadas - las declaraciones de impresión comentadas están bien, pero elimine cualquier otra cosa no utilizada para mantener su código fácil de leer.\n",
        "\n",
        "Todo o nada!!\n",
        "\n",
        "Para cualquier código que ejecute lo que no se pide, o tenga error, tiene puntaje 0. Le recomiendo leer muy bien cada enunciado y hacer las preguntas correspondientes el día sábado en la clase."
      ]
    },
    {
      "cell_type": "markdown",
      "id": "3aba7c44",
      "metadata": {
        "id": "3aba7c44"
      },
      "source": [
        "### 1a) Crear una matriz llamada “A” de 7x5 inicializada con el valor 33 (1 pts).\n"
      ]
    },
    {
      "cell_type": "code",
      "execution_count": 2,
      "id": "2b2a7553",
      "metadata": {
        "id": "2b2a7553",
        "colab": {
          "base_uri": "https://localhost:8080/"
        },
        "outputId": "f4d8d547-af11-4895-b97f-620cfe6c0607"
      },
      "outputs": [
        {
          "output_type": "stream",
          "name": "stdout",
          "text": [
            "[[33 33 33 33 33]\n",
            " [33 33 33 33 33]\n",
            " [33 33 33 33 33]\n",
            " [33 33 33 33 33]\n",
            " [33 33 33 33 33]\n",
            " [33 33 33 33 33]\n",
            " [33 33 33 33 33]]\n"
          ]
        }
      ],
      "source": [
        "import pandas as pd\n",
        "import numpy as np\n",
        "A = np.full((7, 5), 33)\n",
        "print(A)"
      ]
    },
    {
      "cell_type": "code",
      "source": [
        "dimensiones=(7,5)\n",
        "matriz_unos = np.ones(dimensiones)\n",
        "a = matriz_unos*33\n",
        "print(a)"
      ],
      "metadata": {
        "colab": {
          "base_uri": "https://localhost:8080/"
        },
        "id": "120HIywXIOOs",
        "outputId": "6b4f2a3c-457a-4dbc-fdd9-73666953eeb8"
      },
      "id": "120HIywXIOOs",
      "execution_count": 3,
      "outputs": [
        {
          "output_type": "stream",
          "name": "stdout",
          "text": [
            "[[33. 33. 33. 33. 33.]\n",
            " [33. 33. 33. 33. 33.]\n",
            " [33. 33. 33. 33. 33.]\n",
            " [33. 33. 33. 33. 33.]\n",
            " [33. 33. 33. 33. 33.]\n",
            " [33. 33. 33. 33. 33.]\n",
            " [33. 33. 33. 33. 33.]]\n"
          ]
        }
      ]
    },
    {
      "cell_type": "markdown",
      "id": "85a395fa",
      "metadata": {
        "id": "85a395fa"
      },
      "source": [
        "### 1b) Para A indicar (2 pts):  \n",
        "```\n",
        "    - Que tipo es (0.5 punto)\n",
        "    - Que forma tiene (0.5 punto)\n",
        "    - Cuantos elementos tiene (0.5 punto)\n",
        "    - Que tipo de dato contiene (0.5 punto)\n",
        "```"
      ]
    },
    {
      "cell_type": "code",
      "execution_count": 4,
      "id": "07c9dbfc",
      "metadata": {
        "id": "07c9dbfc",
        "colab": {
          "base_uri": "https://localhost:8080/"
        },
        "outputId": "79a21799-392e-4c4d-989f-e24cf8209672"
      },
      "outputs": [
        {
          "output_type": "stream",
          "name": "stdout",
          "text": [
            "<class 'numpy.ndarray'>\n",
            "(7, 5)\n",
            "35\n",
            "int64\n"
          ]
        }
      ],
      "source": [
        "print(type(A))\n",
        "print(A.shape)\n",
        "print(A.size)\n",
        "print(A.dtype)"
      ]
    },
    {
      "cell_type": "markdown",
      "id": "3825a9e0",
      "metadata": {
        "id": "3825a9e0"
      },
      "source": [
        "### 2) Crear una función que pida al usuario 3 números enteros y otra función min_de_tres() que sea capaz de devolver el valor menor de ellos. (4 puntos)\n",
        "\n",
        "\"Python tiene una funcion min() que no puede usar.  Usted debe ser capaz de escribirla en código\""
      ]
    },
    {
      "cell_type": "code",
      "execution_count": null,
      "id": "d846c40c",
      "metadata": {
        "id": "d846c40c"
      },
      "outputs": [],
      "source": [
        ""
      ]
    },
    {
      "cell_type": "markdown",
      "id": "1e2dfe54",
      "metadata": {
        "id": "1e2dfe54"
      },
      "source": [
        "### 3)  Crea un programa en python que logre generar una contraseña aleatorea. Para ello considere una contraseña de longitud 15 y que el programa devuelva una contraseña de esa logitud que integre : letras Mayúsculas, minúsculas, números y símbolos. (4 puntos)\n",
        "Tips: puede usar la  `import random` -->  `random.choice(caracteres)`"
      ]
    },
    {
      "cell_type": "code",
      "execution_count": null,
      "id": "afa0b066",
      "metadata": {
        "id": "afa0b066"
      },
      "outputs": [],
      "source": [
        ""
      ]
    },
    {
      "cell_type": "markdown",
      "id": "8dc62bd5",
      "metadata": {
        "id": "8dc62bd5"
      },
      "source": [
        "### 4) Data Frames y pandas...."
      ]
    },
    {
      "cell_type": "code",
      "execution_count": 5,
      "id": "b4c3a968",
      "metadata": {
        "id": "b4c3a968",
        "outputId": "fb078501-3512-419e-cdcf-c164d7f63e79",
        "colab": {
          "base_uri": "https://localhost:8080/",
          "height": 751
        }
      },
      "outputs": [
        {
          "output_type": "execute_result",
          "data": {
            "text/plain": [
              "      ORDEN                         NOMBRE REGIÓN Código Región  \\\n",
              "0         0                                  PAÍS          PAÍS   \n",
              "1         1                                  PAÍS          PAÍS   \n",
              "2         2                                  PAÍS          PAÍS   \n",
              "3         3                                  PAÍS          PAÍS   \n",
              "4         4                                  PAÍS          PAÍS   \n",
              "...     ...                                   ...           ...   \n",
              "7629   7629  MAGALLANES Y DE LA ANTÁRTICA CHILENA            12   \n",
              "7630   7630  MAGALLANES Y DE LA ANTÁRTICA CHILENA            12   \n",
              "7631   7631  MAGALLANES Y DE LA ANTÁRTICA CHILENA            12   \n",
              "7632   7632  MAGALLANES Y DE LA ANTÁRTICA CHILENA            12   \n",
              "7633   7633  MAGALLANES Y DE LA ANTÁRTICA CHILENA            12   \n",
              "\n",
              "      NOMBRE PROVINCIA Código Provincia     NOMBRE COMUNA Código Comuna  \\\n",
              "0                 PAÍS             PAÍS              PAÍS          PAÍS   \n",
              "1                 PAÍS             PAÍS              PAÍS          PAÍS   \n",
              "2                 PAÍS             PAÍS              PAÍS          PAÍS   \n",
              "3                 PAÍS             PAÍS              PAÍS          PAÍS   \n",
              "4                 PAÍS             PAÍS              PAÍS          PAÍS   \n",
              "...                ...              ...               ...           ...   \n",
              "7629  ÚLTIMA ESPERANZA              124  TORRES DEL PAINE         12402   \n",
              "7630  ÚLTIMA ESPERANZA              124  TORRES DEL PAINE         12402   \n",
              "7631  ÚLTIMA ESPERANZA              124  TORRES DEL PAINE         12402   \n",
              "7632  ÚLTIMA ESPERANZA              124  TORRES DEL PAINE         12402   \n",
              "7633  ÚLTIMA ESPERANZA              124  TORRES DEL PAINE         12402   \n",
              "\n",
              "            Edad  Hombres  Mujeres     TOTAL  \n",
              "0     Total País  8601989  8972014  17574003  \n",
              "1          0 a 4   594059   572087   1166146  \n",
              "2          5 a 9   618121   592068   1210189  \n",
              "3        10 a 14   585855   561560   1147415  \n",
              "4        15 a 19   636064   608633   1244697  \n",
              "...          ...      ...      ...       ...  \n",
              "7629     80 a 84        2        2         4  \n",
              "7630     85 a 89        0        1         1  \n",
              "7631     90 a 94        0        0         0  \n",
              "7632     95 a 99        0        0         0  \n",
              "7633   100 o más        0        0         0  \n",
              "\n",
              "[7634 rows x 11 columns]"
            ],
            "text/html": [
              "\n",
              "  <div id=\"df-58b884cc-a8d4-4db1-b090-676854c2eff0\">\n",
              "    <div class=\"colab-df-container\">\n",
              "      <div>\n",
              "<style scoped>\n",
              "    .dataframe tbody tr th:only-of-type {\n",
              "        vertical-align: middle;\n",
              "    }\n",
              "\n",
              "    .dataframe tbody tr th {\n",
              "        vertical-align: top;\n",
              "    }\n",
              "\n",
              "    .dataframe thead th {\n",
              "        text-align: right;\n",
              "    }\n",
              "</style>\n",
              "<table border=\"1\" class=\"dataframe\">\n",
              "  <thead>\n",
              "    <tr style=\"text-align: right;\">\n",
              "      <th></th>\n",
              "      <th>ORDEN</th>\n",
              "      <th>NOMBRE REGIÓN</th>\n",
              "      <th>Código Región</th>\n",
              "      <th>NOMBRE PROVINCIA</th>\n",
              "      <th>Código Provincia</th>\n",
              "      <th>NOMBRE COMUNA</th>\n",
              "      <th>Código Comuna</th>\n",
              "      <th>Edad</th>\n",
              "      <th>Hombres</th>\n",
              "      <th>Mujeres</th>\n",
              "      <th>TOTAL</th>\n",
              "    </tr>\n",
              "  </thead>\n",
              "  <tbody>\n",
              "    <tr>\n",
              "      <th>0</th>\n",
              "      <td>0</td>\n",
              "      <td>PAÍS</td>\n",
              "      <td>PAÍS</td>\n",
              "      <td>PAÍS</td>\n",
              "      <td>PAÍS</td>\n",
              "      <td>PAÍS</td>\n",
              "      <td>PAÍS</td>\n",
              "      <td>Total País</td>\n",
              "      <td>8601989</td>\n",
              "      <td>8972014</td>\n",
              "      <td>17574003</td>\n",
              "    </tr>\n",
              "    <tr>\n",
              "      <th>1</th>\n",
              "      <td>1</td>\n",
              "      <td>PAÍS</td>\n",
              "      <td>PAÍS</td>\n",
              "      <td>PAÍS</td>\n",
              "      <td>PAÍS</td>\n",
              "      <td>PAÍS</td>\n",
              "      <td>PAÍS</td>\n",
              "      <td>0 a 4</td>\n",
              "      <td>594059</td>\n",
              "      <td>572087</td>\n",
              "      <td>1166146</td>\n",
              "    </tr>\n",
              "    <tr>\n",
              "      <th>2</th>\n",
              "      <td>2</td>\n",
              "      <td>PAÍS</td>\n",
              "      <td>PAÍS</td>\n",
              "      <td>PAÍS</td>\n",
              "      <td>PAÍS</td>\n",
              "      <td>PAÍS</td>\n",
              "      <td>PAÍS</td>\n",
              "      <td>5 a 9</td>\n",
              "      <td>618121</td>\n",
              "      <td>592068</td>\n",
              "      <td>1210189</td>\n",
              "    </tr>\n",
              "    <tr>\n",
              "      <th>3</th>\n",
              "      <td>3</td>\n",
              "      <td>PAÍS</td>\n",
              "      <td>PAÍS</td>\n",
              "      <td>PAÍS</td>\n",
              "      <td>PAÍS</td>\n",
              "      <td>PAÍS</td>\n",
              "      <td>PAÍS</td>\n",
              "      <td>10 a 14</td>\n",
              "      <td>585855</td>\n",
              "      <td>561560</td>\n",
              "      <td>1147415</td>\n",
              "    </tr>\n",
              "    <tr>\n",
              "      <th>4</th>\n",
              "      <td>4</td>\n",
              "      <td>PAÍS</td>\n",
              "      <td>PAÍS</td>\n",
              "      <td>PAÍS</td>\n",
              "      <td>PAÍS</td>\n",
              "      <td>PAÍS</td>\n",
              "      <td>PAÍS</td>\n",
              "      <td>15 a 19</td>\n",
              "      <td>636064</td>\n",
              "      <td>608633</td>\n",
              "      <td>1244697</td>\n",
              "    </tr>\n",
              "    <tr>\n",
              "      <th>...</th>\n",
              "      <td>...</td>\n",
              "      <td>...</td>\n",
              "      <td>...</td>\n",
              "      <td>...</td>\n",
              "      <td>...</td>\n",
              "      <td>...</td>\n",
              "      <td>...</td>\n",
              "      <td>...</td>\n",
              "      <td>...</td>\n",
              "      <td>...</td>\n",
              "      <td>...</td>\n",
              "    </tr>\n",
              "    <tr>\n",
              "      <th>7629</th>\n",
              "      <td>7629</td>\n",
              "      <td>MAGALLANES Y DE LA ANTÁRTICA CHILENA</td>\n",
              "      <td>12</td>\n",
              "      <td>ÚLTIMA ESPERANZA</td>\n",
              "      <td>124</td>\n",
              "      <td>TORRES DEL PAINE</td>\n",
              "      <td>12402</td>\n",
              "      <td>80 a 84</td>\n",
              "      <td>2</td>\n",
              "      <td>2</td>\n",
              "      <td>4</td>\n",
              "    </tr>\n",
              "    <tr>\n",
              "      <th>7630</th>\n",
              "      <td>7630</td>\n",
              "      <td>MAGALLANES Y DE LA ANTÁRTICA CHILENA</td>\n",
              "      <td>12</td>\n",
              "      <td>ÚLTIMA ESPERANZA</td>\n",
              "      <td>124</td>\n",
              "      <td>TORRES DEL PAINE</td>\n",
              "      <td>12402</td>\n",
              "      <td>85 a 89</td>\n",
              "      <td>0</td>\n",
              "      <td>1</td>\n",
              "      <td>1</td>\n",
              "    </tr>\n",
              "    <tr>\n",
              "      <th>7631</th>\n",
              "      <td>7631</td>\n",
              "      <td>MAGALLANES Y DE LA ANTÁRTICA CHILENA</td>\n",
              "      <td>12</td>\n",
              "      <td>ÚLTIMA ESPERANZA</td>\n",
              "      <td>124</td>\n",
              "      <td>TORRES DEL PAINE</td>\n",
              "      <td>12402</td>\n",
              "      <td>90 a 94</td>\n",
              "      <td>0</td>\n",
              "      <td>0</td>\n",
              "      <td>0</td>\n",
              "    </tr>\n",
              "    <tr>\n",
              "      <th>7632</th>\n",
              "      <td>7632</td>\n",
              "      <td>MAGALLANES Y DE LA ANTÁRTICA CHILENA</td>\n",
              "      <td>12</td>\n",
              "      <td>ÚLTIMA ESPERANZA</td>\n",
              "      <td>124</td>\n",
              "      <td>TORRES DEL PAINE</td>\n",
              "      <td>12402</td>\n",
              "      <td>95 a 99</td>\n",
              "      <td>0</td>\n",
              "      <td>0</td>\n",
              "      <td>0</td>\n",
              "    </tr>\n",
              "    <tr>\n",
              "      <th>7633</th>\n",
              "      <td>7633</td>\n",
              "      <td>MAGALLANES Y DE LA ANTÁRTICA CHILENA</td>\n",
              "      <td>12</td>\n",
              "      <td>ÚLTIMA ESPERANZA</td>\n",
              "      <td>124</td>\n",
              "      <td>TORRES DEL PAINE</td>\n",
              "      <td>12402</td>\n",
              "      <td>100 o más</td>\n",
              "      <td>0</td>\n",
              "      <td>0</td>\n",
              "      <td>0</td>\n",
              "    </tr>\n",
              "  </tbody>\n",
              "</table>\n",
              "<p>7634 rows × 11 columns</p>\n",
              "</div>\n",
              "      <button class=\"colab-df-convert\" onclick=\"convertToInteractive('df-58b884cc-a8d4-4db1-b090-676854c2eff0')\"\n",
              "              title=\"Convert this dataframe to an interactive table.\"\n",
              "              style=\"display:none;\">\n",
              "        \n",
              "  <svg xmlns=\"http://www.w3.org/2000/svg\" height=\"24px\"viewBox=\"0 0 24 24\"\n",
              "       width=\"24px\">\n",
              "    <path d=\"M0 0h24v24H0V0z\" fill=\"none\"/>\n",
              "    <path d=\"M18.56 5.44l.94 2.06.94-2.06 2.06-.94-2.06-.94-.94-2.06-.94 2.06-2.06.94zm-11 1L8.5 8.5l.94-2.06 2.06-.94-2.06-.94L8.5 2.5l-.94 2.06-2.06.94zm10 10l.94 2.06.94-2.06 2.06-.94-2.06-.94-.94-2.06-.94 2.06-2.06.94z\"/><path d=\"M17.41 7.96l-1.37-1.37c-.4-.4-.92-.59-1.43-.59-.52 0-1.04.2-1.43.59L10.3 9.45l-7.72 7.72c-.78.78-.78 2.05 0 2.83L4 21.41c.39.39.9.59 1.41.59.51 0 1.02-.2 1.41-.59l7.78-7.78 2.81-2.81c.8-.78.8-2.07 0-2.86zM5.41 20L4 18.59l7.72-7.72 1.47 1.35L5.41 20z\"/>\n",
              "  </svg>\n",
              "      </button>\n",
              "      \n",
              "  <style>\n",
              "    .colab-df-container {\n",
              "      display:flex;\n",
              "      flex-wrap:wrap;\n",
              "      gap: 12px;\n",
              "    }\n",
              "\n",
              "    .colab-df-convert {\n",
              "      background-color: #E8F0FE;\n",
              "      border: none;\n",
              "      border-radius: 50%;\n",
              "      cursor: pointer;\n",
              "      display: none;\n",
              "      fill: #1967D2;\n",
              "      height: 32px;\n",
              "      padding: 0 0 0 0;\n",
              "      width: 32px;\n",
              "    }\n",
              "\n",
              "    .colab-df-convert:hover {\n",
              "      background-color: #E2EBFA;\n",
              "      box-shadow: 0px 1px 2px rgba(60, 64, 67, 0.3), 0px 1px 3px 1px rgba(60, 64, 67, 0.15);\n",
              "      fill: #174EA6;\n",
              "    }\n",
              "\n",
              "    [theme=dark] .colab-df-convert {\n",
              "      background-color: #3B4455;\n",
              "      fill: #D2E3FC;\n",
              "    }\n",
              "\n",
              "    [theme=dark] .colab-df-convert:hover {\n",
              "      background-color: #434B5C;\n",
              "      box-shadow: 0px 1px 3px 1px rgba(0, 0, 0, 0.15);\n",
              "      filter: drop-shadow(0px 1px 2px rgba(0, 0, 0, 0.3));\n",
              "      fill: #FFFFFF;\n",
              "    }\n",
              "  </style>\n",
              "\n",
              "      <script>\n",
              "        const buttonEl =\n",
              "          document.querySelector('#df-58b884cc-a8d4-4db1-b090-676854c2eff0 button.colab-df-convert');\n",
              "        buttonEl.style.display =\n",
              "          google.colab.kernel.accessAllowed ? 'block' : 'none';\n",
              "\n",
              "        async function convertToInteractive(key) {\n",
              "          const element = document.querySelector('#df-58b884cc-a8d4-4db1-b090-676854c2eff0');\n",
              "          const dataTable =\n",
              "            await google.colab.kernel.invokeFunction('convertToInteractive',\n",
              "                                                     [key], {});\n",
              "          if (!dataTable) return;\n",
              "\n",
              "          const docLinkHtml = 'Like what you see? Visit the ' +\n",
              "            '<a target=\"_blank\" href=https://colab.research.google.com/notebooks/data_table.ipynb>data table notebook</a>'\n",
              "            + ' to learn more about interactive tables.';\n",
              "          element.innerHTML = '';\n",
              "          dataTable['output_type'] = 'display_data';\n",
              "          await google.colab.output.renderOutput(dataTable, element);\n",
              "          const docLink = document.createElement('div');\n",
              "          docLink.innerHTML = docLinkHtml;\n",
              "          element.appendChild(docLink);\n",
              "        }\n",
              "      </script>\n",
              "    </div>\n",
              "  </div>\n",
              "  "
            ]
          },
          "metadata": {},
          "execution_count": 5
        }
      ],
      "source": [
        "import pandas as pd\n",
        "import io\n",
        "import requests\n",
        "url=\"https://raw.githubusercontent.com/malegria01/ACI222/main/jupyter-notebook/censo.csv\"\n",
        "s=requests.get(url).content\n",
        "df=pd.read_csv(io.StringIO(s.decode('utf-8')))\n",
        "df"
      ]
    },
    {
      "cell_type": "markdown",
      "id": "0626a759",
      "metadata": {
        "id": "0626a759"
      },
      "source": [
        "### Obtener datos mediante código python y \n",
        "# responder con palabras o con print lo que se pide:\n",
        "\n",
        "#### 4a) ¿Cuál es el código de la provincia de MALLECO? (2 puntos)\n",
        "\n"
      ]
    },
    {
      "cell_type": "code",
      "execution_count": 6,
      "id": "a2321852",
      "metadata": {
        "id": "a2321852",
        "colab": {
          "base_uri": "https://localhost:8080/"
        },
        "outputId": "100555aa-a43a-4c95-cc58-decfd02bb632"
      },
      "outputs": [
        {
          "output_type": "stream",
          "name": "stdout",
          "text": [
            "El código de la provincia de Malleco es ['92']\n"
          ]
        }
      ],
      "source": [
        "df.columns = ['ORDEN', 'NOMBRE_REGIÓN', 'Código_Región', 'NOMBRE_PROVINCIA', 'Código_Provincia', 'NOMBRE_COMUNA', 'Código_Comuna', 'Edad', 'Hombres', 'Mujeres', 'TOTAL']\n",
        "code_provincia = df.loc[(df['NOMBRE_PROVINCIA'] == 'MALLECO') & (df['NOMBRE_PROVINCIA'] == 'MALLECO')]['Código_Provincia'].unique()\n",
        "print(\"El código de la provincia de Malleco es {}\".format(code_provincia))\n"
      ]
    },
    {
      "cell_type": "markdown",
      "id": "153dc11f",
      "metadata": {
        "id": "153dc11f"
      },
      "source": [
        "#### 4b) ¿Cuál es el código de la comuna de VICTORIA? (2 puntos)"
      ]
    },
    {
      "cell_type": "code",
      "execution_count": 7,
      "id": "998b3c57",
      "metadata": {
        "id": "998b3c57",
        "colab": {
          "base_uri": "https://localhost:8080/"
        },
        "outputId": "f5a0cab8-9e43-4163-ba7e-ccd09dd64493"
      },
      "outputs": [
        {
          "output_type": "stream",
          "name": "stdout",
          "text": [
            "El código de la comuna de Victoria es []\n"
          ]
        }
      ],
      "source": [
        "code_comuna = df.loc[(df['NOMBRE_PROVINCIA'] == 'VICTORIA') & (df['NOMBRE_PROVINCIA'] == 'VICTORIA')]['Código_Comuna'].unique()\n",
        "print(\"El código de la comuna de Victoria es {}\".format(code_comuna))\n"
      ]
    },
    {
      "cell_type": "markdown",
      "id": "89225727",
      "metadata": {
        "id": "89225727"
      },
      "source": [
        "#### 4c) ¿A que provincia pertenece la comuna de 'HUARA'? (2 puntos)\n"
      ]
    },
    {
      "cell_type": "code",
      "execution_count": 8,
      "id": "29d1170e",
      "metadata": {
        "id": "29d1170e",
        "colab": {
          "base_uri": "https://localhost:8080/"
        },
        "outputId": "6ca2734e-f46c-4404-db8f-3bc3769d1ba7"
      },
      "outputs": [
        {
          "output_type": "stream",
          "name": "stdout",
          "text": [
            "La Provincia de la comuna es: ['DEL TAMARUGAL']\n"
          ]
        }
      ],
      "source": [
        "code_comuna = df.loc[(df['NOMBRE_COMUNA'] == 'HUARA') ]['NOMBRE_PROVINCIA'].unique()\n",
        "print(\"La Provincia de la comuna es: {}\".format(code_comuna))\n"
      ]
    },
    {
      "cell_type": "markdown",
      "id": "b95e50e8",
      "metadata": {
        "id": "b95e50e8"
      },
      "source": [
        "#### 4d) ¿Cuántos Hombres y cuántas mujeres habitan en la comuna de 'SIERRA GORDA'? (2 puntos)"
      ]
    },
    {
      "cell_type": "code",
      "execution_count": 16,
      "id": "84645763",
      "metadata": {
        "id": "84645763",
        "colab": {
          "base_uri": "https://localhost:8080/"
        },
        "outputId": "f2dde956-412c-4773-c4bf-b484b73eea38"
      },
      "outputs": [
        {
          "output_type": "stream",
          "name": "stdout",
          "text": [
            "total de hombres: {}\n"
          ]
        }
      ],
      "source": [
        "total = df.loc[(df['NOMBRE_COMUNA'] == 'SIERRA_GORDA')  & (df['Hombres'] == 'Total Comunal')] ['TOTAL']\n",
        "total = df.loc[(df['NOMBRE_COMUNA'] == 'SIERRA_GORDA')  & (df['Mujeres'] == 'Total Comunal')] ['TOTAL']\n",
        "print(\"total de hombres: {}\")\n"
      ]
    },
    {
      "cell_type": "markdown",
      "id": "965954af",
      "metadata": {
        "id": "965954af"
      },
      "source": [
        "#### 4e) Grafique el total de hombres y mujeres de SIERRA GORDA (1 punto)"
      ]
    },
    {
      "cell_type": "code",
      "execution_count": null,
      "id": "03eb8f5e",
      "metadata": {
        "id": "03eb8f5e"
      },
      "outputs": [],
      "source": [
        ""
      ]
    },
    {
      "cell_type": "markdown",
      "id": "68e8b80e",
      "metadata": {
        "id": "68e8b80e"
      },
      "source": [
        "### 5) a) Crear nuevos dataframe que contenga información por nuevos tramos de edad y considerar (2 puntos) \n",
        "\n",
        "Grupo 1 = personas menores o iguales de 19 años (grupo menores edad) \n",
        "\n",
        " Grupo 2 = personas iguales o mayores de 60 años (grupo Tercera edad)\n",
        "\n",
        "\n",
        "**tips**: Es mejor eliminar todas las filas que contienen Total y Pais (buscar \"loc\")."
      ]
    },
    {
      "cell_type": "code",
      "execution_count": 18,
      "id": "ceda2d9b",
      "metadata": {
        "id": "ceda2d9b",
        "colab": {
          "base_uri": "https://localhost:8080/",
          "height": 348
        },
        "outputId": "921ed64e-1df5-4d1d-b675-f2eda8fd9527"
      },
      "outputs": [
        {
          "output_type": "execute_result",
          "data": {
            "text/plain": [
              "    ORDEN       NOMBRE_REGIÓN Código_Región NOMBRE_PROVINCIA Código_Provincia  \\\n",
              "23     23  ARICA Y PARINACOTA            15            ARICA              151   \n",
              "24     24  ARICA Y PARINACOTA            15            ARICA              151   \n",
              "45     45  ARICA Y PARINACOTA            15            ARICA              151   \n",
              "46     46  ARICA Y PARINACOTA            15            ARICA              151   \n",
              "67     67  ARICA Y PARINACOTA            15       PARINACOTA              152   \n",
              "68     68  ARICA Y PARINACOTA            15       PARINACOTA              152   \n",
              "\n",
              "   NOMBRE_COMUNA Código_Comuna   Edad  Hombres  Mujeres  TOTAL  \n",
              "23         ARICA         15101  0 a 4     8123     7770  15893  \n",
              "24         ARICA         15101  5 a 9     8697     8347  17044  \n",
              "45     CAMARONES         15102  0 a 4       32       29     61  \n",
              "46     CAMARONES         15102  5 a 9       38       30     68  \n",
              "67         PUTRE         15201  0 a 4       42       38     80  \n",
              "68         PUTRE         15201  5 a 9       44       44     88  "
            ],
            "text/html": [
              "\n",
              "  <div id=\"df-64e589a5-eddc-4114-821a-a82ac3316613\">\n",
              "    <div class=\"colab-df-container\">\n",
              "      <div>\n",
              "<style scoped>\n",
              "    .dataframe tbody tr th:only-of-type {\n",
              "        vertical-align: middle;\n",
              "    }\n",
              "\n",
              "    .dataframe tbody tr th {\n",
              "        vertical-align: top;\n",
              "    }\n",
              "\n",
              "    .dataframe thead th {\n",
              "        text-align: right;\n",
              "    }\n",
              "</style>\n",
              "<table border=\"1\" class=\"dataframe\">\n",
              "  <thead>\n",
              "    <tr style=\"text-align: right;\">\n",
              "      <th></th>\n",
              "      <th>ORDEN</th>\n",
              "      <th>NOMBRE_REGIÓN</th>\n",
              "      <th>Código_Región</th>\n",
              "      <th>NOMBRE_PROVINCIA</th>\n",
              "      <th>Código_Provincia</th>\n",
              "      <th>NOMBRE_COMUNA</th>\n",
              "      <th>Código_Comuna</th>\n",
              "      <th>Edad</th>\n",
              "      <th>Hombres</th>\n",
              "      <th>Mujeres</th>\n",
              "      <th>TOTAL</th>\n",
              "    </tr>\n",
              "  </thead>\n",
              "  <tbody>\n",
              "    <tr>\n",
              "      <th>23</th>\n",
              "      <td>23</td>\n",
              "      <td>ARICA Y PARINACOTA</td>\n",
              "      <td>15</td>\n",
              "      <td>ARICA</td>\n",
              "      <td>151</td>\n",
              "      <td>ARICA</td>\n",
              "      <td>15101</td>\n",
              "      <td>0 a 4</td>\n",
              "      <td>8123</td>\n",
              "      <td>7770</td>\n",
              "      <td>15893</td>\n",
              "    </tr>\n",
              "    <tr>\n",
              "      <th>24</th>\n",
              "      <td>24</td>\n",
              "      <td>ARICA Y PARINACOTA</td>\n",
              "      <td>15</td>\n",
              "      <td>ARICA</td>\n",
              "      <td>151</td>\n",
              "      <td>ARICA</td>\n",
              "      <td>15101</td>\n",
              "      <td>5 a 9</td>\n",
              "      <td>8697</td>\n",
              "      <td>8347</td>\n",
              "      <td>17044</td>\n",
              "    </tr>\n",
              "    <tr>\n",
              "      <th>45</th>\n",
              "      <td>45</td>\n",
              "      <td>ARICA Y PARINACOTA</td>\n",
              "      <td>15</td>\n",
              "      <td>ARICA</td>\n",
              "      <td>151</td>\n",
              "      <td>CAMARONES</td>\n",
              "      <td>15102</td>\n",
              "      <td>0 a 4</td>\n",
              "      <td>32</td>\n",
              "      <td>29</td>\n",
              "      <td>61</td>\n",
              "    </tr>\n",
              "    <tr>\n",
              "      <th>46</th>\n",
              "      <td>46</td>\n",
              "      <td>ARICA Y PARINACOTA</td>\n",
              "      <td>15</td>\n",
              "      <td>ARICA</td>\n",
              "      <td>151</td>\n",
              "      <td>CAMARONES</td>\n",
              "      <td>15102</td>\n",
              "      <td>5 a 9</td>\n",
              "      <td>38</td>\n",
              "      <td>30</td>\n",
              "      <td>68</td>\n",
              "    </tr>\n",
              "    <tr>\n",
              "      <th>67</th>\n",
              "      <td>67</td>\n",
              "      <td>ARICA Y PARINACOTA</td>\n",
              "      <td>15</td>\n",
              "      <td>PARINACOTA</td>\n",
              "      <td>152</td>\n",
              "      <td>PUTRE</td>\n",
              "      <td>15201</td>\n",
              "      <td>0 a 4</td>\n",
              "      <td>42</td>\n",
              "      <td>38</td>\n",
              "      <td>80</td>\n",
              "    </tr>\n",
              "    <tr>\n",
              "      <th>68</th>\n",
              "      <td>68</td>\n",
              "      <td>ARICA Y PARINACOTA</td>\n",
              "      <td>15</td>\n",
              "      <td>PARINACOTA</td>\n",
              "      <td>152</td>\n",
              "      <td>PUTRE</td>\n",
              "      <td>15201</td>\n",
              "      <td>5 a 9</td>\n",
              "      <td>44</td>\n",
              "      <td>44</td>\n",
              "      <td>88</td>\n",
              "    </tr>\n",
              "  </tbody>\n",
              "</table>\n",
              "</div>\n",
              "      <button class=\"colab-df-convert\" onclick=\"convertToInteractive('df-64e589a5-eddc-4114-821a-a82ac3316613')\"\n",
              "              title=\"Convert this dataframe to an interactive table.\"\n",
              "              style=\"display:none;\">\n",
              "        \n",
              "  <svg xmlns=\"http://www.w3.org/2000/svg\" height=\"24px\"viewBox=\"0 0 24 24\"\n",
              "       width=\"24px\">\n",
              "    <path d=\"M0 0h24v24H0V0z\" fill=\"none\"/>\n",
              "    <path d=\"M18.56 5.44l.94 2.06.94-2.06 2.06-.94-2.06-.94-.94-2.06-.94 2.06-2.06.94zm-11 1L8.5 8.5l.94-2.06 2.06-.94-2.06-.94L8.5 2.5l-.94 2.06-2.06.94zm10 10l.94 2.06.94-2.06 2.06-.94-2.06-.94-.94-2.06-.94 2.06-2.06.94z\"/><path d=\"M17.41 7.96l-1.37-1.37c-.4-.4-.92-.59-1.43-.59-.52 0-1.04.2-1.43.59L10.3 9.45l-7.72 7.72c-.78.78-.78 2.05 0 2.83L4 21.41c.39.39.9.59 1.41.59.51 0 1.02-.2 1.41-.59l7.78-7.78 2.81-2.81c.8-.78.8-2.07 0-2.86zM5.41 20L4 18.59l7.72-7.72 1.47 1.35L5.41 20z\"/>\n",
              "  </svg>\n",
              "      </button>\n",
              "      \n",
              "  <style>\n",
              "    .colab-df-container {\n",
              "      display:flex;\n",
              "      flex-wrap:wrap;\n",
              "      gap: 12px;\n",
              "    }\n",
              "\n",
              "    .colab-df-convert {\n",
              "      background-color: #E8F0FE;\n",
              "      border: none;\n",
              "      border-radius: 50%;\n",
              "      cursor: pointer;\n",
              "      display: none;\n",
              "      fill: #1967D2;\n",
              "      height: 32px;\n",
              "      padding: 0 0 0 0;\n",
              "      width: 32px;\n",
              "    }\n",
              "\n",
              "    .colab-df-convert:hover {\n",
              "      background-color: #E2EBFA;\n",
              "      box-shadow: 0px 1px 2px rgba(60, 64, 67, 0.3), 0px 1px 3px 1px rgba(60, 64, 67, 0.15);\n",
              "      fill: #174EA6;\n",
              "    }\n",
              "\n",
              "    [theme=dark] .colab-df-convert {\n",
              "      background-color: #3B4455;\n",
              "      fill: #D2E3FC;\n",
              "    }\n",
              "\n",
              "    [theme=dark] .colab-df-convert:hover {\n",
              "      background-color: #434B5C;\n",
              "      box-shadow: 0px 1px 3px 1px rgba(0, 0, 0, 0.15);\n",
              "      filter: drop-shadow(0px 1px 2px rgba(0, 0, 0, 0.3));\n",
              "      fill: #FFFFFF;\n",
              "    }\n",
              "  </style>\n",
              "\n",
              "      <script>\n",
              "        const buttonEl =\n",
              "          document.querySelector('#df-64e589a5-eddc-4114-821a-a82ac3316613 button.colab-df-convert');\n",
              "        buttonEl.style.display =\n",
              "          google.colab.kernel.accessAllowed ? 'block' : 'none';\n",
              "\n",
              "        async function convertToInteractive(key) {\n",
              "          const element = document.querySelector('#df-64e589a5-eddc-4114-821a-a82ac3316613');\n",
              "          const dataTable =\n",
              "            await google.colab.kernel.invokeFunction('convertToInteractive',\n",
              "                                                     [key], {});\n",
              "          if (!dataTable) return;\n",
              "\n",
              "          const docLinkHtml = 'Like what you see? Visit the ' +\n",
              "            '<a target=\"_blank\" href=https://colab.research.google.com/notebooks/data_table.ipynb>data table notebook</a>'\n",
              "            + ' to learn more about interactive tables.';\n",
              "          element.innerHTML = '';\n",
              "          dataTable['output_type'] = 'display_data';\n",
              "          await google.colab.output.renderOutput(dataTable, element);\n",
              "          const docLink = document.createElement('div');\n",
              "          docLink.innerHTML = docLinkHtml;\n",
              "          element.appendChild(docLink);\n",
              "        }\n",
              "      </script>\n",
              "    </div>\n",
              "  </div>\n",
              "  "
            ]
          },
          "metadata": {},
          "execution_count": 18
        }
      ],
      "source": [
        "new_df2 = df.loc[(df['Edad'].str.contains(\"Total\") == False) & (df['NOMBRE_REGIÓN'].str.contains(\"PAÍS\") == False)]\n",
        "new_df2.head(30)\n",
        "new_df3 = new_df2.loc[(new_df2['Edad'] == '0 a 4') | (new_df2['Edad'] == '5 a 9') | \n",
        "               (new_df2['Edad'] == '10 a 19') | (new_df2['Edad'] == '20 a 60')]\n",
        "\n",
        "new_df3.head(6)\n"
      ]
    },
    {
      "cell_type": "markdown",
      "id": "d7d520fd",
      "metadata": {
        "id": "d7d520fd"
      },
      "source": [
        "### 5b) Cuántas mujeres y hombres hay por cada región del grupo 2 (tercera edad). (2 puntos). \n",
        "[Tips: Cuidado con las filas que contienen Total o PAÍS]"
      ]
    },
    {
      "cell_type": "code",
      "execution_count": null,
      "id": "d6bdfad9",
      "metadata": {
        "id": "d6bdfad9"
      },
      "outputs": [],
      "source": [
        ""
      ]
    },
    {
      "cell_type": "code",
      "execution_count": null,
      "id": "88426e6f",
      "metadata": {
        "id": "88426e6f"
      },
      "outputs": [],
      "source": [
        ""
      ]
    },
    {
      "cell_type": "markdown",
      "id": "712b7c98",
      "metadata": {
        "id": "712b7c98"
      },
      "source": [
        "### 5c) Grafique sus datos (1 punto) [Total hombres y mujeres Tercera Edad por Región]"
      ]
    },
    {
      "cell_type": "code",
      "execution_count": null,
      "id": "690a2cf1",
      "metadata": {
        "id": "690a2cf1"
      },
      "outputs": [],
      "source": [
        ""
      ]
    }
  ],
  "metadata": {
    "kernelspec": {
      "display_name": "Python 3",
      "language": "python",
      "name": "python3"
    },
    "language_info": {
      "codemirror_mode": {
        "name": "ipython",
        "version": 3
      },
      "file_extension": ".py",
      "mimetype": "text/x-python",
      "name": "python",
      "nbconvert_exporter": "python",
      "pygments_lexer": "ipython3",
      "version": "3.8.13"
    },
    "vscode": {
      "interpreter": {
        "hash": "b81babd3a2e32fa6f2495ae112bc84c239266a2a76eef2b7257c496cc826dd0e"
      }
    },
    "colab": {
      "name": "CIPIRAN_JULIO_CESAR",
      "provenance": [],
      "collapsed_sections": [],
      "include_colab_link": true
    }
  },
  "nbformat": 4,
  "nbformat_minor": 5
}
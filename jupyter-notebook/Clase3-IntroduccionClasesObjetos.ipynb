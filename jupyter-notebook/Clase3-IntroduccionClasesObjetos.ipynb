{
  "cells": [
    {
      "cell_type": "markdown",
      "id": "3b4631f9",
      "metadata": {
        "id": "3b4631f9"
      },
      "source": [
        "# A) Clases, Propiedades, Métodos y Objetos\n",
        "\n",
        "## 1) Creando una Clase con propiedades y métodos\n",
        "\n",
        "### Clase Coche()"
      ]
    },
    {
      "cell_type": "code",
      "execution_count": 1,
      "id": "96248378",
      "metadata": {
        "id": "96248378"
      },
      "outputs": [],
      "source": [
        "#crear clase coche\n",
        "class Coche():\n",
        "    ruedas=4\n",
        "    def desplazamiento(self):\n",
        "        print(\"El coche se esta desplazando sobre 4 ruedas\")\n"
      ]
    },
    {
      "cell_type": "markdown",
      "id": "34bfd4ce",
      "metadata": {
        "id": "34bfd4ce"
      },
      "source": [
        "## 2) Creando un objeto\n",
        "### Objeto= miVehiculo"
      ]
    },
    {
      "cell_type": "code",
      "execution_count": 4,
      "id": "1a585536",
      "metadata": {
        "id": "1a585536"
      },
      "outputs": [],
      "source": [
        "#Creamos un objeto miVehiculo, especificando que pertenece a la clase Coche()\n",
        "miVehiculo=Coche()\n"
      ]
    },
    {
      "cell_type": "markdown",
      "id": "e77b3517",
      "metadata": {
        "id": "e77b3517"
      },
      "source": [
        "### Mostrando los atributos del objeto\n",
        "```miObjeto.atributo```"
      ]
    },
    {
      "cell_type": "code",
      "execution_count": 2,
      "id": "37492c24",
      "metadata": {
        "id": "37492c24",
        "outputId": "c7bff5c7-0c57-4a70-c578-746271eabed3",
        "colab": {
          "base_uri": "https://localhost:8080/",
          "height": 166
        }
      },
      "outputs": [
        {
          "output_type": "error",
          "ename": "NameError",
          "evalue": "ignored",
          "traceback": [
            "\u001b[0;31m---------------------------------------------------------------------------\u001b[0m",
            "\u001b[0;31mNameError\u001b[0m                                 Traceback (most recent call last)",
            "\u001b[0;32m<ipython-input-2-14a1b0d3418a>\u001b[0m in \u001b[0;36m<module>\u001b[0;34m()\u001b[0m\n\u001b[0;32m----> 1\u001b[0;31m \u001b[0mmiVehiculo\u001b[0m\u001b[0;34m.\u001b[0m\u001b[0mruedas\u001b[0m\u001b[0;34m\u001b[0m\u001b[0;34m\u001b[0m\u001b[0m\n\u001b[0m",
            "\u001b[0;31mNameError\u001b[0m: name 'miVehiculo' is not defined"
          ]
        }
      ],
      "source": [
        "miVehiculo.ruedas"
      ]
    },
    {
      "cell_type": "markdown",
      "id": "4d421f28",
      "metadata": {
        "id": "4d421f28"
      },
      "source": [
        "### Mostrando los métodos del objeto\n",
        "```miObjeto.metodo()```"
      ]
    },
    {
      "cell_type": "code",
      "execution_count": 3,
      "id": "7e85f44a",
      "metadata": {
        "id": "7e85f44a",
        "outputId": "1ba00761-6191-4e42-877b-59d29c61b83c",
        "colab": {
          "base_uri": "https://localhost:8080/",
          "height": 166
        }
      },
      "outputs": [
        {
          "output_type": "error",
          "ename": "NameError",
          "evalue": "ignored",
          "traceback": [
            "\u001b[0;31m---------------------------------------------------------------------------\u001b[0m",
            "\u001b[0;31mNameError\u001b[0m                                 Traceback (most recent call last)",
            "\u001b[0;32m<ipython-input-3-ef7c5e7460ca>\u001b[0m in \u001b[0;36m<module>\u001b[0;34m()\u001b[0m\n\u001b[0;32m----> 1\u001b[0;31m \u001b[0mmiVehiculo\u001b[0m\u001b[0;34m.\u001b[0m\u001b[0mdesplazamiento\u001b[0m\u001b[0;34m(\u001b[0m\u001b[0;34m)\u001b[0m\u001b[0;34m\u001b[0m\u001b[0;34m\u001b[0m\u001b[0m\n\u001b[0m",
            "\u001b[0;31mNameError\u001b[0m: name 'miVehiculo' is not defined"
          ]
        }
      ],
      "source": [
        "miVehiculo.ruedas"
      ]
    },
    {
      "cell_type": "markdown",
      "id": "737f5107",
      "metadata": {
        "id": "737f5107"
      },
      "source": [
        "### Ahora que sabemos cómo mostrar los atributos y métodos del objeto, podemos hacer algo más elaborado para mostrar:"
      ]
    },
    {
      "cell_type": "code",
      "execution_count": 5,
      "id": "0108de62",
      "metadata": {
        "id": "0108de62",
        "outputId": "b9796163-8db3-400f-deb8-0eaf5173887a",
        "colab": {
          "base_uri": "https://localhost:8080/"
        }
      },
      "outputs": [
        {
          "output_type": "stream",
          "name": "stdout",
          "text": [
            "Mi coche tiene  4  ruedas\n",
            "El coche se esta desplazando sobre 4 ruedas\n"
          ]
        }
      ],
      "source": [
        "print(\"Mi coche tiene \", miVehiculo.ruedas, \" ruedas\")\n",
        "\n",
        "miVehiculo.desplazamiento()"
      ]
    },
    {
      "cell_type": "markdown",
      "id": "3b23e6eb",
      "metadata": {
        "id": "3b23e6eb"
      },
      "source": [
        "> Al ir bloque por bloque podemos ir visualizando lo que hace cada línea de código pero esto podemos hacer todo en un progrmama\n",
        "> > Se ha creado un objeto que pertenece a una clase y cuya clase tiene atributos y comportamientos únicos de que lo diferencia de otros objetos. \n",
        ">>> El este ejemplo los ***objetos*** son vehículos y sus diferentes tipos que en la POO serían ***clases***, tales como: trenes, barcos, motos, aviones, etc.\n",
        "\n"
      ]
    },
    {
      "cell_type": "code",
      "execution_count": null,
      "id": "40f83b75",
      "metadata": {
        "id": "40f83b75",
        "outputId": "f400672e-3937-4843-9966-8bbb31c933b6"
      },
      "outputs": [
        {
          "name": "stdout",
          "output_type": "stream",
          "text": [
            "Mi coche tiene  4  ruedas\n",
            "El coche se esta desplazando sobre 4 ruedas\n"
          ]
        }
      ],
      "source": [
        "class Coche():\n",
        "\n",
        "    ruedas=4\n",
        "\n",
        "    def desplazamiento(self):\n",
        "        print(\"El coche se esta desplazando sobre 4 ruedas\")\n",
        "\n",
        "miVehiculo=Coche()\n",
        "\n",
        "print(\"Mi coche tiene \", miVehiculo.ruedas, \" ruedas\")\n",
        "\n",
        "miVehiculo.desplazamiento()"
      ]
    },
    {
      "cell_type": "markdown",
      "id": "8f619919",
      "metadata": {
        "id": "8f619919"
      },
      "source": [
        "\n",
        "#### Podemos agregar todas las clases que necesitemos. Vamos a agregrar la clase ```Bicicleta``` con sus propios atributos y comportamientos:"
      ]
    },
    {
      "cell_type": "code",
      "execution_count": null,
      "id": "8ae218dd",
      "metadata": {
        "id": "8ae218dd"
      },
      "outputs": [],
      "source": [
        "class Bicicleta():\n",
        "    ruedas=2\n",
        "    def desplazamiento(self):\n",
        "        print(\"La bicicleta se esta desplazando sobre 2 ruedas\")"
      ]
    },
    {
      "cell_type": "code",
      "execution_count": null,
      "id": "9751cd97",
      "metadata": {
        "id": "9751cd97",
        "outputId": "421f71cb-9e77-4ac0-d9d8-dcfd9df20d7f"
      },
      "outputs": [
        {
          "name": "stdout",
          "output_type": "stream",
          "text": [
            "Mi bicicleta tiene  2  ruedas\n",
            "La bicicleta se esta desplazando sobre 2 ruedas\n"
          ]
        }
      ],
      "source": [
        "miVehiculo2=Bicicleta()\n",
        "\n",
        "print(\"Mi bicicleta tiene \", miVehiculo2.ruedas, \" ruedas\")\n",
        "\n",
        "miVehiculo2.desplazamiento()"
      ]
    },
    {
      "cell_type": "markdown",
      "id": "7056de97",
      "metadata": {
        "id": "7056de97"
      },
      "source": [
        "## Atributos de clase y atributos de instancia\n",
        "\n",
        "Aqui vamos a agregar a la clase el ```Docstring``` que describe a la clase se se crea, esto permite mantener el código ordenado y que cualquier programador pueda saber de que se trata la clase coche().\n",
        "\n",
        "ruedas = 4 es un **atributo de clase**\n",
        "\n",
        "> Hay clases que deben o necesitan crear ***instancias de objetos*** con un estado inicial y se puede definir de la siguiente forma:\n",
        "```\n",
        "def __init__(self, color, aceleracion):\n",
        "    self.color = color\n",
        "    self.aceleracion = aceleracion\n",
        "    self.velocidad = 0\n",
        "```\n",
        "\n",
        "Esto se consigue implementando el método especial ```__init__()```. Este método es conocido como el **constructor de la clase** y se invoca cada vez que se instancia un nuevo objeto.\n",
        "\n",
        "El método ```__init__()``` establece un primer parámetro ```self```, el cual define los parámetros ```color``` y ```aceleración``` que determina el estado inicial de un objeto tipo Coche.\n",
        "> En Python solo se puede definir un método __init__().\n",
        "\n",
        "> Para instanciar el objeto de tipo coche, se debe pasar como argumento el ```color```y la ```aceleración```.\n",
        "\n",
        "\n",
        "Además, se puede especificar otros parámetros siguiendo las mismas reglas que cualquier otra función.\n",
        "\n",
        "Veamos un ejemplo:\n"
      ]
    },
    {
      "cell_type": "code",
      "execution_count": 6,
      "id": "1c8d08dd",
      "metadata": {
        "id": "1c8d08dd"
      },
      "outputs": [],
      "source": [
        "class Coche():\n",
        "    \"\"\"Esta clase define el comportamiento de un coche\"\"\"\n",
        "    \n",
        "    #atributo de clase\n",
        "    ruedas=4\n",
        "    \n",
        "    #definimos la instancia de clase \n",
        "    def __init__(self, color, aceleracion):\n",
        "        #atributos de instancia\n",
        "        self.color = color\n",
        "        self.aceleracion = aceleracion\n",
        "        self.velocidad = 0\n",
        "\n",
        "    #métodos    \n",
        "    def acelera(self):\n",
        "        self.velocidad = self.velocidad + self.aceleracion\n",
        "    \n",
        "    def frena(self):\n",
        "        v = self.velocidad - self.aceleracion\n",
        "        if v > 0:\n",
        "            v=0\n",
        "            print(\"frena, su velocidad es {}\".format(v))\n",
        "        self.velocidad = v\n",
        "    \n",
        "        \n",
        "\n"
      ]
    },
    {
      "cell_type": "code",
      "execution_count": 7,
      "id": "6281fe92",
      "metadata": {
        "id": "6281fe92",
        "outputId": "6cb55288-4d84-42a4-855f-d9029703a353",
        "colab": {
          "base_uri": "https://localhost:8080/"
        }
      },
      "outputs": [
        {
          "output_type": "stream",
          "name": "stdout",
          "text": [
            "rojo\n"
          ]
        }
      ],
      "source": [
        "c1 = Coche('rojo', 20)\n",
        "print(c1.color)"
      ]
    },
    {
      "cell_type": "code",
      "execution_count": 8,
      "id": "6d2a5019",
      "metadata": {
        "id": "6d2a5019",
        "outputId": "ef95ec1d-6077-410e-c7de-8d6813856285",
        "colab": {
          "base_uri": "https://localhost:8080/"
        }
      },
      "outputs": [
        {
          "output_type": "stream",
          "name": "stdout",
          "text": [
            "0\n"
          ]
        }
      ],
      "source": [
        "print(c1.velocidad)\n"
      ]
    },
    {
      "cell_type": "code",
      "execution_count": 9,
      "id": "22b87361",
      "metadata": {
        "id": "22b87361",
        "outputId": "daae66ca-7799-40a0-dbea-31654ba1152a",
        "colab": {
          "base_uri": "https://localhost:8080/"
        }
      },
      "outputs": [
        {
          "output_type": "stream",
          "name": "stdout",
          "text": [
            "20\n"
          ]
        }
      ],
      "source": [
        "c1.acelera()\n",
        "print(c1.velocidad)"
      ]
    },
    {
      "cell_type": "markdown",
      "id": "a6f37c67",
      "metadata": {
        "id": "a6f37c67"
      },
      "source": [
        "### Entonces....\n",
        "Una clase puede definir dos tipos diferentes de atributos de datos: \n",
        "* Atributos de clase \n",
        "* Atributos de instancia.\n",
        "\n",
        "    > Los atributos de clase son atributos compartidos por todas las instancias de esa clase. ```rueda```\n",
        "    \n",
        "    >Los atributos de instancia, por el contrario, son únicos para cada uno de los objetos pertenecientes a dicha clase. ```color```, ```aceleracion```, ```velocidad```"
      ]
    },
    {
      "cell_type": "markdown",
      "id": "6357d2c5",
      "metadata": {
        "id": "6357d2c5"
      },
      "source": [
        "# B) Herencia \n",
        "\n",
        "#### Una clase (conocida como clase hija o subclase) hereda todos los métodos y propiedades de otra clase (conocida como padre o clase base).\n",
        "\n",
        "La sintaxis es la siguiente\n",
        "\n",
        "```\n",
        "class ClaseBase:\n",
        "    #Código clase base\n",
        "    \n",
        "class SubClase(BaseClss):\n",
        "    #Código Subclase\n",
        "```\n",
        "\n",
        ">La subclase puede añadir funcionalidades. Esta técnica permite reutilizar código.\n",
        "\n",
        "#### Ejemplo\n",
        "\n",
        "Declaramos la clase padre llamada “Padre” y vamos a añadir atributos y métodos:"
      ]
    },
    {
      "cell_type": "code",
      "execution_count": null,
      "id": "a8e34cb5",
      "metadata": {
        "id": "a8e34cb5"
      },
      "outputs": [],
      "source": [
        "class Padre():\n",
        "    caballo = \"negro\"\n",
        "    ojos = \"azules\"\n",
        "    \n",
        "    def conducir_coche(self):\n",
        "        print(\"La persona sabe conducir coche\")"
      ]
    },
    {
      "cell_type": "markdown",
      "id": "e082a949",
      "metadata": {
        "id": "e082a949"
      },
      "source": [
        "Ya tenemos una clase ```Padre()```ahora vamos a hacer otra clase \"Hijo\" que herede los atibutos y métodos de la clase \"Padre\""
      ]
    },
    {
      "cell_type": "code",
      "execution_count": 11,
      "id": "5184ef74",
      "metadata": {
        "id": "5184ef74",
        "outputId": "c97d4f5c-08ab-4d79-cd2c-999d7cd78ae5",
        "colab": {
          "base_uri": "https://localhost:8080/",
          "height": 201
        }
      },
      "outputs": [
        {
          "output_type": "error",
          "ename": "NameError",
          "evalue": "ignored",
          "traceback": [
            "\u001b[0;31m---------------------------------------------------------------------------\u001b[0m",
            "\u001b[0;31mNameError\u001b[0m                                 Traceback (most recent call last)",
            "\u001b[0;32m<ipython-input-11-1f9c2767aa0e>\u001b[0m in \u001b[0;36m<module>\u001b[0;34m()\u001b[0m\n\u001b[0;32m----> 1\u001b[0;31m \u001b[0;32mclass\u001b[0m \u001b[0mHijo\u001b[0m\u001b[0;34m(\u001b[0m\u001b[0mPadre\u001b[0m\u001b[0;34m)\u001b[0m\u001b[0;34m:\u001b[0m\u001b[0;34m\u001b[0m\u001b[0;34m\u001b[0m\u001b[0m\n\u001b[0m\u001b[1;32m      2\u001b[0m     \u001b[0;32mdef\u001b[0m \u001b[0mconducir_moto\u001b[0m\u001b[0;34m(\u001b[0m\u001b[0mself\u001b[0m\u001b[0;34m)\u001b[0m\u001b[0;34m:\u001b[0m\u001b[0;34m\u001b[0m\u001b[0;34m\u001b[0m\u001b[0m\n\u001b[1;32m      3\u001b[0m         \u001b[0mprint\u001b[0m\u001b[0;34m(\u001b[0m\u001b[0;34m\"la persona sabe conducir moto\"\u001b[0m\u001b[0;34m)\u001b[0m\u001b[0;34m\u001b[0m\u001b[0;34m\u001b[0m\u001b[0m\n",
            "\u001b[0;31mNameError\u001b[0m: name 'Padre' is not defined"
          ]
        }
      ],
      "source": [
        "class Hijo(Padre):\n",
        "    def conducir_moto(self):\n",
        "        print(\"la persona sabe conducir moto\")"
      ]
    },
    {
      "cell_type": "markdown",
      "id": "4fb9caf2",
      "metadata": {
        "id": "4fb9caf2"
      },
      "source": [
        "Ahora podemos drear un objeto perteneciente a la clase hijo y le decimos que imprima los atributos y métodos que tiene la clase \"Padre\" . "
      ]
    },
    {
      "cell_type": "code",
      "execution_count": 12,
      "id": "b74639af",
      "metadata": {
        "id": "b74639af",
        "outputId": "a02fbcc8-a3ff-45fa-d1e0-06b9051bd4ea",
        "colab": {
          "base_uri": "https://localhost:8080/",
          "height": 236
        }
      },
      "outputs": [
        {
          "output_type": "error",
          "ename": "NameError",
          "evalue": "ignored",
          "traceback": [
            "\u001b[0;31m---------------------------------------------------------------------------\u001b[0m",
            "\u001b[0;31mNameError\u001b[0m                                 Traceback (most recent call last)",
            "\u001b[0;32m<ipython-input-12-ede5adbfc6be>\u001b[0m in \u001b[0;36m<module>\u001b[0;34m()\u001b[0m\n\u001b[0;32m----> 1\u001b[0;31m \u001b[0mpersona\u001b[0m \u001b[0;34m=\u001b[0m \u001b[0mHijo\u001b[0m\u001b[0;34m(\u001b[0m\u001b[0;34m)\u001b[0m\u001b[0;34m\u001b[0m\u001b[0;34m\u001b[0m\u001b[0m\n\u001b[0m\u001b[1;32m      2\u001b[0m \u001b[0;31m#imprime atriubutos\u001b[0m\u001b[0;34m\u001b[0m\u001b[0;34m\u001b[0m\u001b[0;34m\u001b[0m\u001b[0m\n\u001b[1;32m      3\u001b[0m \u001b[0mprint\u001b[0m\u001b[0;34m(\u001b[0m\u001b[0mpersona\u001b[0m\u001b[0;34m.\u001b[0m\u001b[0mcaballo\u001b[0m\u001b[0;34m)\u001b[0m\u001b[0;34m\u001b[0m\u001b[0;34m\u001b[0m\u001b[0m\n\u001b[1;32m      4\u001b[0m \u001b[0mprint\u001b[0m\u001b[0;34m(\u001b[0m\u001b[0mpersona\u001b[0m\u001b[0;34m.\u001b[0m\u001b[0mojos\u001b[0m\u001b[0;34m)\u001b[0m\u001b[0;34m\u001b[0m\u001b[0;34m\u001b[0m\u001b[0m\n\u001b[1;32m      5\u001b[0m \u001b[0;34m\u001b[0m\u001b[0m\n",
            "\u001b[0;31mNameError\u001b[0m: name 'Hijo' is not defined"
          ]
        }
      ],
      "source": [
        "persona = Hijo()\n",
        "#imprime atriubutos\n",
        "print(persona.caballo)\n",
        "print(persona.ojos)\n",
        "\n",
        "#imprime métiodos\n",
        "persona.conducir_coche()\n",
        "persona.conducir_moto() "
      ]
    },
    {
      "cell_type": "markdown",
      "id": "6dcb5e07",
      "metadata": {
        "id": "6dcb5e07"
      },
      "source": [
        "#### Ejemplo 2"
      ]
    },
    {
      "cell_type": "code",
      "execution_count": 13,
      "id": "5a45169d",
      "metadata": {
        "id": "5a45169d"
      },
      "outputs": [],
      "source": [
        "class Dispositivo:\n",
        "    def __init__(self,identificador,marca):\n",
        "        self.identificador = identificador\n",
        "        self.marca = marca\n",
        "\n",
        "    def conectar(self):\n",
        "        print(\"¡Conectado!\")\n",
        "        \n",
        "\n",
        "# la clase base se indica entre paréntesis\n",
        "class Teclado(Dispositivo):\n",
        "    def __init__(self,identificador,marca,tipo):\n",
        "        # llamada al constructor del padre\n",
        "        Dispositivo.__init__(self,identificador,marca)\n",
        "        self.tipo = tipo\n",
        "    # metodo de la subclase\n",
        "    def pulsar_tecla(self,tecla):\n",
        "        print(tecla)\n",
        "\n"
      ]
    },
    {
      "cell_type": "code",
      "execution_count": 14,
      "id": "41dfcd82",
      "metadata": {
        "id": "41dfcd82",
        "outputId": "dade246f-2410-4055-ee92-36d9752c863e",
        "colab": {
          "base_uri": "https://localhost:8080/"
        }
      },
      "outputs": [
        {
          "output_type": "stream",
          "name": "stdout",
          "text": [
            "Id: 0001, Marca: Logitech, tipo: AZERTY\n",
            "¡Conectado!\n",
            "a\n"
          ]
        }
      ],
      "source": [
        "t1 = Teclado(\"0001\", \"Logitech\", \"AZERTY\")\n",
        "print(f\"Id: {t1.identificador}, Marca: {t1.marca}, tipo: {t1.tipo}\")\n",
        "t1.conectar()\n",
        "t1.pulsar_tecla(\"a\")"
      ]
    },
    {
      "cell_type": "markdown",
      "id": "bb194480",
      "metadata": {
        "id": "bb194480"
      },
      "source": [
        "## Herencia Múltiple\n",
        "\n",
        "Una clase hereda métodos y atributos de más de una clase padre. En caso de heredar atributos o métodos con el mismo nombre, Python dará prioridad al posicionado más a la izquierda en la declaración.\n",
        "\n",
        "#### en caso de conflicto Dispositivo tendrá prioridad sobre Periférico\n",
        " ```\n",
        "class Teclado(Dispositivo, Periférico):\n",
        "    #codigo de la clase\n",
        "    pass\n",
        "```\n",
        "\n",
        "#### Un ejemplo en la práctica \n",
        "\n",
        "Clase C hereda en este caso métodos de la clase A y B"
      ]
    },
    {
      "cell_type": "code",
      "execution_count": 15,
      "id": "f6994f1d",
      "metadata": {
        "id": "f6994f1d",
        "outputId": "99c17e84-4f48-4c8d-8965-274859030b3e",
        "colab": {
          "base_uri": "https://localhost:8080/"
        }
      },
      "outputs": [
        {
          "output_type": "stream",
          "name": "stdout",
          "text": [
            "a\n",
            "b\n",
            "c\n"
          ]
        }
      ],
      "source": [
        "class A:\n",
        "    def print_a(self):\n",
        "        print('a')\n",
        "\n",
        "\n",
        "class B:\n",
        "    def print_b(self):\n",
        "        print('b')\n",
        "\n",
        "\n",
        "class C(A, B):\n",
        "    def print_c(self):\n",
        "        print('c')\n",
        "\n",
        "\n",
        "c = C()\n",
        "c.print_a()\n",
        "c.print_b()\n",
        "c.print_c()"
      ]
    },
    {
      "cell_type": "code",
      "source": [
        ""
      ],
      "metadata": {
        "id": "eWUZfetnZzvM"
      },
      "id": "eWUZfetnZzvM",
      "execution_count": null,
      "outputs": []
    }
  ],
  "metadata": {
    "kernelspec": {
      "display_name": "Python 3",
      "language": "python",
      "name": "python3"
    },
    "language_info": {
      "codemirror_mode": {
        "name": "ipython",
        "version": 3
      },
      "file_extension": ".py",
      "mimetype": "text/x-python",
      "name": "python",
      "nbconvert_exporter": "python",
      "pygments_lexer": "ipython3",
      "version": "3.8.13"
    },
    "colab": {
      "name": "Clase3-IntroduccionClasesObjetos.ipynb",
      "provenance": []
    }
  },
  "nbformat": 4,
  "nbformat_minor": 5
}
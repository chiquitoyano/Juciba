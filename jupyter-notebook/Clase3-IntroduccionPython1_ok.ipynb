{
  "cells": [
    {
      "cell_type": "markdown",
      "id": "c782b6f9",
      "metadata": {
        "id": "c782b6f9"
      },
      "source": [
        "# Introducción a Python \n",
        "\n",
        "## Parte práctica\n",
        "\n",
        "Se recomienda ejecutar paso a paso estas celdas para ir repasando Python. Esto será la base para poder avanzar en el curso de análisis de datos, por lo que también puedes agregar código o comentar las celdas para ir practicando y recordando la sintaxis."
      ]
    },
    {
      "cell_type": "markdown",
      "id": "9ee9d416",
      "metadata": {
        "id": "9ee9d416"
      },
      "source": [
        "### El comando \"print ()\"\n",
        "Este comando nos muestra por pantalla lo que le entregamos como argumento. Ejemplo: si queremos ver el texto \"Hola mundo\":"
      ]
    },
    {
      "cell_type": "code",
      "execution_count": null,
      "id": "9ac717e8",
      "metadata": {
        "id": "9ac717e8",
        "outputId": "12a69bd4-4e43-41f4-d381-92994f4a8dc1"
      },
      "outputs": [
        {
          "name": "stdout",
          "output_type": "stream",
          "text": [
            "Hola mundo\n"
          ]
        }
      ],
      "source": [
        "# Si la línea comienza con \"#\" significa que es un comentario y el interprete no lo ejecutará\n",
        "# Esta línea es un comentario\n",
        "print (\"Hola mundo\")"
      ]
    },
    {
      "cell_type": "code",
      "execution_count": null,
      "id": "60fd9147",
      "metadata": {
        "id": "60fd9147",
        "outputId": "d81c4fe4-a1d2-4920-fb02-6c8801f92f04"
      },
      "outputs": [
        {
          "name": "stdout",
          "output_type": "stream",
          "text": [
            "hola\n"
          ]
        }
      ],
      "source": [
        "# aca tambien comentario\n",
        "\"\"\"\n",
        "Comentario multilínea:\n",
        "Python\n",
        "lo\n",
        "ignorará\n",
        "\"\"\"\n",
        "print(\"hola\")"
      ]
    },
    {
      "cell_type": "markdown",
      "id": "6a3386d7",
      "metadata": {
        "id": "6a3386d7"
      },
      "source": [
        "### Palabras Reservadas\n",
        "Corresponden a ciertas palabras que poseen un significado predefinido en el lenguaje y por tanto no se pueden utilizar para nombrar variables. Podemos solicitar la lista de palabras reservadas en Python con:"
      ]
    },
    {
      "cell_type": "code",
      "execution_count": null,
      "id": "c898fff2",
      "metadata": {
        "id": "c898fff2",
        "outputId": "01d6ade2-0a35-4112-8443-4b49a64c9da8"
      },
      "outputs": [
        {
          "data": {
            "text/plain": [
              "['False',\n",
              " 'None',\n",
              " 'True',\n",
              " 'and',\n",
              " 'as',\n",
              " 'assert',\n",
              " 'async',\n",
              " 'await',\n",
              " 'break',\n",
              " 'class',\n",
              " 'continue',\n",
              " 'def',\n",
              " 'del',\n",
              " 'elif',\n",
              " 'else',\n",
              " 'except',\n",
              " 'finally',\n",
              " 'for',\n",
              " 'from',\n",
              " 'global',\n",
              " 'if',\n",
              " 'import',\n",
              " 'in',\n",
              " 'is',\n",
              " 'lambda',\n",
              " 'nonlocal',\n",
              " 'not',\n",
              " 'or',\n",
              " 'pass',\n",
              " 'raise',\n",
              " 'return',\n",
              " 'try',\n",
              " 'while',\n",
              " 'with',\n",
              " 'yield']"
            ]
          },
          "execution_count": 3,
          "metadata": {},
          "output_type": "execute_result"
        }
      ],
      "source": [
        "import keyword \n",
        "keyword.kwlist"
      ]
    },
    {
      "cell_type": "markdown",
      "id": "18f3e7aa",
      "metadata": {
        "id": "18f3e7aa"
      },
      "source": [
        "### Variables\n",
        "* Las variables tienen un nombre y se le asigna un valor\n",
        "* Pueden ser de distinto tipo dependiendo del valor asignado\n",
        "* Así cada variable corresponde a un **objeto**\n",
        "\n",
        "Veamos algunos ejemplos\n",
        "\n"
      ]
    },
    {
      "cell_type": "code",
      "execution_count": null,
      "id": "92311d93",
      "metadata": {
        "id": "92311d93"
      },
      "outputs": [],
      "source": [
        "soy_un_numero = 22\n",
        "soy_una_variable = \"Repasando Python\""
      ]
    },
    {
      "cell_type": "markdown",
      "id": "071f83a2",
      "metadata": {
        "id": "071f83a2"
      },
      "source": [
        "El uso de espacios para definir una variable es incorrecto"
      ]
    },
    {
      "cell_type": "code",
      "execution_count": null,
      "id": "b9770e2e",
      "metadata": {
        "scrolled": true,
        "id": "b9770e2e",
        "outputId": "96adfcb5-31dc-4eb9-e9bd-e2e788fde013"
      },
      "outputs": [
        {
          "ename": "SyntaxError",
          "evalue": "invalid syntax (<ipython-input-5-a8c687868ca8>, line 1)",
          "output_type": "error",
          "traceback": [
            "\u001b[0;36m  File \u001b[0;32m\"<ipython-input-5-a8c687868ca8>\"\u001b[0;36m, line \u001b[0;32m1\u001b[0m\n\u001b[0;31m    una varible = \"Repasando Python\"\u001b[0m\n\u001b[0m        ^\u001b[0m\n\u001b[0;31mSyntaxError\u001b[0m\u001b[0;31m:\u001b[0m invalid syntax\n"
          ]
        }
      ],
      "source": [
        "una varible = \"Repasando Python\""
      ]
    },
    {
      "cell_type": "markdown",
      "id": "b8ac753e",
      "metadata": {
        "id": "b8ac753e"
      },
      "source": [
        "### String\n",
        "Un string es una cadena de caracteres y puede escribirse con comillas simples o dobles"
      ]
    },
    {
      "cell_type": "code",
      "execution_count": null,
      "id": "25cc23c1",
      "metadata": {
        "id": "25cc23c1",
        "outputId": "2dc25929-0466-47d9-9054-1def244feb90"
      },
      "outputs": [
        {
          "name": "stdout",
          "output_type": "stream",
          "text": [
            "Melissa\n",
            "Alegría\n"
          ]
        }
      ],
      "source": [
        "nombre = 'Melissa'\n",
        "apellido = \"Alegría\"\n",
        "print (nombre)\n",
        "print (apellido)\n"
      ]
    },
    {
      "cell_type": "markdown",
      "id": "d3abfb24",
      "metadata": {
        "id": "d3abfb24"
      },
      "source": [
        "\n",
        "Para usar las comillas simples en un print se puede usar comillas simples o dobles, dependiendo de lo que se quiera imprimir"
      ]
    },
    {
      "cell_type": "code",
      "execution_count": null,
      "id": "445668f5",
      "metadata": {
        "id": "445668f5",
        "outputId": "fce85656-660b-4e3c-e621-b6858835676e"
      },
      "outputs": [
        {
          "name": "stdout",
          "output_type": "stream",
          "text": [
            "Como la cadena ha sido creada con comillas simples, las comillas dobles (\") aparecerán en el texto sin problema.\n",
            "Como la cadena ha sido creada con comillas dobles, las comillas simples (') aparecerán en el texto sin problema.\n"
          ]
        }
      ],
      "source": [
        "print('Como la cadena ha sido creada con comillas simples, las comillas dobles (\") aparecerán en el texto sin problema.')\n",
        "print(\"Como la cadena ha sido creada con comillas dobles, las comillas simples (') aparecerán en el texto sin problema.\")"
      ]
    },
    {
      "cell_type": "code",
      "execution_count": null,
      "id": "d23b9ad2",
      "metadata": {
        "id": "d23b9ad2",
        "outputId": "ab943820-af77-4a91-bfe0-2ec1172af4be"
      },
      "outputs": [
        {
          "ename": "SyntaxError",
          "evalue": "invalid syntax (<ipython-input-8-3610fba06dda>, line 2)",
          "output_type": "error",
          "traceback": [
            "\u001b[0;36m  File \u001b[0;32m\"<ipython-input-8-3610fba06dda>\"\u001b[0;36m, line \u001b[0;32m2\u001b[0m\n\u001b[0;31m    print(\"Como la cadena ha sido creada con comillas simples, las comillas dobles (\") aparecerán en el texto sin problema.\")\u001b[0m\n\u001b[0m                                                                                       ^\u001b[0m\n\u001b[0;31mSyntaxError\u001b[0m\u001b[0;31m:\u001b[0m invalid syntax\n"
          ]
        }
      ],
      "source": [
        "#Esto generará una error\n",
        "print(\"Como la cadena ha sido creada con comillas simples, las comillas dobles (\") aparecerán en el texto sin problema.\")\n",
        "\n"
      ]
    },
    {
      "cell_type": "markdown",
      "id": "febf9efa",
      "metadata": {
        "id": "febf9efa"
      },
      "source": [
        "En los string se puede emplear los operadores suma (+) y multiplicación (*) para operar con las cadenas de caracteres. Con el primer operador concatenaremos las cadenas que estamos \"sumando\", mientras que con el segundo repetiremos la cadena tantas veces como el número que la multiplica."
      ]
    },
    {
      "cell_type": "code",
      "execution_count": null,
      "id": "fb4a32ea",
      "metadata": {
        "id": "fb4a32ea",
        "outputId": "2d77aa8f-1546-46f7-c5f8-8df1d6027f7d"
      },
      "outputs": [
        {
          "name": "stdout",
          "output_type": "stream",
          "text": [
            "Mi nombre es Melissa Alegría\n"
          ]
        }
      ],
      "source": [
        "#Concatenar string: Se debe asignar o concatener el espacio que separa los string Ej: string1 + \" \" + string2\n",
        "print (\"Mi nombre es \" + nombre + \" \" + apellido)"
      ]
    },
    {
      "cell_type": "markdown",
      "id": "6727a4e9",
      "metadata": {
        "id": "6727a4e9"
      },
      "source": [
        "Otra forma de obtener la misma salida es por interpolación"
      ]
    },
    {
      "cell_type": "code",
      "execution_count": null,
      "id": "892db654",
      "metadata": {
        "id": "892db654",
        "outputId": "767e9eef-c66a-4f09-cda4-79d0beed9381"
      },
      "outputs": [
        {
          "name": "stdout",
          "output_type": "stream",
          "text": [
            "Mi nombre es Melissa Alegría Arcos\n"
          ]
        }
      ],
      "source": [
        "#Interpolación\n",
        "apellido2 = \"Arcos\"\n",
        "print (\"Mi nombre es {} {} {}\".format(nombre, apellido, apellido2))"
      ]
    },
    {
      "cell_type": "code",
      "execution_count": null,
      "id": "c89b52b1",
      "metadata": {
        "id": "c89b52b1",
        "outputId": "d8d90477-9c47-4c3c-e66e-a8cfe7851a3b"
      },
      "outputs": [
        {
          "name": "stdout",
          "output_type": "stream",
          "text": [
            "Mi nombre es Melissa Alegría\n",
            "\n",
            "Mi nombre es Melissa Alegría\n",
            "Mi nombre es Melissa Alegría\n",
            "Mi nombre es Melissa Alegría\n",
            "\n"
          ]
        }
      ],
      "source": [
        "# Además podemos asignar esta concatenación a una variable y repetir esta salida usando multiplcación (*).\n",
        "# Notar que \\n se refiere a un salto de línea\n",
        "saludo = \"Mi nombre es \" + nombre + \" \" + apellido + \"\\n\"\n",
        "print (saludo)\n",
        "print(3*saludo)"
      ]
    },
    {
      "cell_type": "code",
      "execution_count": null,
      "id": "41e79990",
      "metadata": {
        "id": "41e79990",
        "outputId": "d67f9ae7-b8b1-4fb8-aabe-d91a230ce4ec"
      },
      "outputs": [
        {
          "name": "stdout",
          "output_type": "stream",
          "text": [
            "2\n"
          ]
        }
      ],
      "source": [
        "# Con variable.count se puede contar cuantas \"s\" tiene el string\n",
        "print(nombre.count(\"s\"))"
      ]
    },
    {
      "cell_type": "code",
      "execution_count": null,
      "id": "f0a37e6d",
      "metadata": {
        "id": "f0a37e6d",
        "outputId": "88534e0d-f1b3-4f50-92e4-64f7f54a83c9"
      },
      "outputs": [
        {
          "name": "stdout",
          "output_type": "stream",
          "text": [
            "7\n"
          ]
        }
      ],
      "source": [
        "#Además con len, es posible obtener el largo del string = len(variable)\n",
        "print(len(apellido))"
      ]
    },
    {
      "cell_type": "code",
      "execution_count": null,
      "id": "86e5063a",
      "metadata": {
        "id": "86e5063a",
        "outputId": "bdb33273-01f3-4bfd-fc7d-d28c6f7d11da"
      },
      "outputs": [
        {
          "name": "stdout",
          "output_type": "stream",
          "text": [
            "MELISSA\n"
          ]
        }
      ],
      "source": [
        "# Con upper(), podemos cambiar todo a mayúscula y con lower() todo a minuscula\n",
        "print(nombre.upper())\n"
      ]
    },
    {
      "cell_type": "code",
      "execution_count": null,
      "id": "b47be604",
      "metadata": {
        "id": "b47be604",
        "outputId": "8f80488c-a069-4ba7-b8ad-29166cab04fd"
      },
      "outputs": [
        {
          "name": "stdout",
          "output_type": "stream",
          "text": [
            "melissa\n"
          ]
        }
      ],
      "source": [
        "print(nombre.lower())"
      ]
    },
    {
      "cell_type": "code",
      "execution_count": null,
      "id": "3dc0c5b2",
      "metadata": {
        "id": "3dc0c5b2",
        "outputId": "4863d32a-be9a-495c-fd36-c3cd28d653e6"
      },
      "outputs": [
        {
          "data": {
            "text/plain": [
              "2"
            ]
          },
          "execution_count": 21,
          "metadata": {},
          "output_type": "execute_result"
        }
      ],
      "source": [
        "cadena3 = nombre + \" \" + apellido\n",
        "cadena3\n",
        "a = cadena3.count(\"a\")\n",
        "a"
      ]
    },
    {
      "cell_type": "markdown",
      "id": "0e3409cb",
      "metadata": {
        "id": "0e3409cb"
      },
      "source": [
        "Empleando las posiciones se puede acceder a los elementos de las cadenas de caracteres. Para ello, siempre hay que tener en cuenta que el primer elemento de la cadena está ubicado en la posición 0."
      ]
    },
    {
      "cell_type": "code",
      "execution_count": null,
      "id": "214d4484",
      "metadata": {
        "id": "214d4484",
        "outputId": "fbb66d7a-0312-48eb-b793-9ed86be13fda"
      },
      "outputs": [
        {
          "name": "stdout",
          "output_type": "stream",
          "text": [
            "R\n",
            "a\n",
            "t\n",
            "o\n",
            "n\n"
          ]
        }
      ],
      "source": [
        "cadena = 'Repasando Python!'\n",
        "\n",
        "print(cadena[0])\n",
        "print(cadena[3])\n",
        "print(cadena[12])\n",
        "print(cadena[14])\n",
        "print(cadena[15])"
      ]
    },
    {
      "cell_type": "markdown",
      "id": "96597269",
      "metadata": {
        "id": "96597269"
      },
      "source": [
        "## Variables numéricas y operadores\n",
        "### Tipos de Objeto\n",
        "**Integer**: Corresponde a un número entero.\n",
        "\n",
        "**Float**: Corresponde a un número decimal.\n",
        "\n",
        "**Time**: Corresponde a una fecha y hora.\n",
        "\n",
        "**Boolean**: Corresponde a True o False. Son el resultado de una evaluación.\n",
        "\n",
        "**None**: corresponde a la ausencia de un valor."
      ]
    },
    {
      "cell_type": "code",
      "execution_count": null,
      "id": "f077876e",
      "metadata": {
        "id": "f077876e",
        "outputId": "10e6e704-a138-4f83-8b75-2fe4206fa57b"
      },
      "outputs": [
        {
          "name": "stdout",
          "output_type": "stream",
          "text": [
            "5\n",
            "1.6\n"
          ]
        }
      ],
      "source": [
        "entero = 5\n",
        "flotante = 1.6\n",
        "\n",
        "print(entero)\n",
        "print(flotante)"
      ]
    },
    {
      "cell_type": "markdown",
      "id": "5d5dd8bd",
      "metadata": {
        "id": "5d5dd8bd"
      },
      "source": [
        "Se puede operar con los dos tipos de variables utilizando los operadores suma (+), resta (-), multiplicación (*) y división (/). Debemos tener en cuenta que el resultado de cualquier operación realizada con variables flotantes será otra variable flotante. El resultado de cualquier operación realizada con variables enteras, será otra variable entera, a excepción de la división, que será flotante."
      ]
    },
    {
      "cell_type": "markdown",
      "id": "c077bbc7",
      "metadata": {
        "id": "c077bbc7"
      },
      "source": [
        "Operador | Nombre\n",
        ":--------: | -------\n",
        "+ | Suma\n",
        "- | Resta  \n",
        "* | Multiplicación\n",
        "/ | División\n",
        "**  | Potencia\n",
        "%  | Módulo o residuo de división\n",
        "// | división entera\n",
        "\n",
        "Recordar el orden de las operaciones, primero las **potencias** luego **multiplicacion** o **division** o **módulo** y finalmente **suma** o **resta**\n",
        "\n"
      ]
    },
    {
      "cell_type": "code",
      "execution_count": null,
      "id": "c7e8fe50",
      "metadata": {
        "scrolled": true,
        "id": "c7e8fe50",
        "outputId": "281e3b15-7e88-4065-dabc-7123b6c87609"
      },
      "outputs": [
        {
          "name": "stdout",
          "output_type": "stream",
          "text": [
            "15\n",
            "-5\n",
            "50\n",
            "2.0\n",
            "\n",
            "\n",
            "15.0\n",
            "-5.0\n",
            "50.0\n",
            "2.0\n"
          ]
        }
      ],
      "source": [
        "int1 = 5\n",
        "int2 = 10\n",
        "float1 = 5.0\n",
        "float2 = 10.0\n",
        "\n",
        "print(int1 + int2)\n",
        "print(int1 - int2)\n",
        "print(int1 * int2)\n",
        "print(int2 / int1)\n",
        "print('\\n')\n",
        "print(float1 + float2)\n",
        "print(float1 - float2)\n",
        "print(float1 * float2)\n",
        "print(float2 / float1)"
      ]
    },
    {
      "cell_type": "markdown",
      "id": "3be4fdb6",
      "metadata": {
        "id": "3be4fdb6"
      },
      "source": [
        "También es posible mezclar variables que son tipo intergers (enteras) y float (flotantes) en una operación. Sin embargo, notar que el resultado será de tipo float\n"
      ]
    },
    {
      "cell_type": "code",
      "execution_count": null,
      "id": "0f10fc07",
      "metadata": {
        "id": "0f10fc07",
        "outputId": "28830a6c-0c7a-42a1-d98f-276c7bd34691"
      },
      "outputs": [
        {
          "name": "stdout",
          "output_type": "stream",
          "text": [
            "15.0\n",
            "-5.0\n",
            "50.0\n",
            "2.0\n"
          ]
        }
      ],
      "source": [
        "print(int1 + float2)\n",
        "print(int1 - float2)\n",
        "print(int1 * float2)\n",
        "print(float2 / int1)"
      ]
    },
    {
      "cell_type": "code",
      "execution_count": null,
      "id": "9f836fc6",
      "metadata": {
        "id": "9f836fc6",
        "outputId": "feea7969-1a2f-40ed-d14e-99561d4c800b"
      },
      "outputs": [
        {
          "name": "stdout",
          "output_type": "stream",
          "text": [
            "1000000\n",
            "0.03\n",
            "0\n",
            "3\n",
            "\n",
            "\n",
            "125.0\n",
            "0.6\n",
            "0.0\n",
            "3.0\n",
            "105\n",
            "0\n"
          ]
        }
      ],
      "source": [
        "int1 = 100\n",
        "int2 = 3\n",
        "float1 = 5\n",
        "float2 = 3.0\n",
        "\n",
        "print(int1 ** int2)\n",
        "print(int2 / int1)\n",
        "print(int2 // int1)\n",
        "print(int2 % int1)\n",
        "print('\\n')\n",
        "print(float1 ** float2)\n",
        "print(float2 / float1)\n",
        "print(float2 // float1)\n",
        "print(float2 % float1)\n",
        "print(float1 + int1)\n",
        "\n",
        "print(int2 // float1)"
      ]
    },
    {
      "cell_type": "markdown",
      "id": "d92ebb63",
      "metadata": {
        "id": "d92ebb63"
      },
      "source": [
        "### Función type\n",
        "Esta función nos mostrará el tipo de variable que estamos utilizando y se puede emplear para cualquier tipo de variable."
      ]
    },
    {
      "cell_type": "code",
      "execution_count": null,
      "id": "d6292552",
      "metadata": {
        "id": "d6292552",
        "outputId": "9abab09f-96ed-4bc6-f9f3-d32a78c0b5fe"
      },
      "outputs": [
        {
          "name": "stdout",
          "output_type": "stream",
          "text": [
            "<class 'int'>\n",
            "<class 'float'>\n"
          ]
        }
      ],
      "source": [
        "print(type(2))\n",
        "print(type(2.0))"
      ]
    },
    {
      "cell_type": "markdown",
      "id": "8f84bfcc",
      "metadata": {
        "id": "8f84bfcc"
      },
      "source": [
        "### Función input\n",
        "Se puede obtener un valor que el usuario ingrese, ejemplo:"
      ]
    },
    {
      "cell_type": "code",
      "execution_count": null,
      "id": "34e8a27e",
      "metadata": {
        "id": "34e8a27e",
        "outputId": "e1dc1f3a-38eb-406c-ddfd-8422fe3ce87a"
      },
      "outputs": [
        {
          "name": "stdout",
          "output_type": "stream",
          "text": [
            "5\n"
          ]
        }
      ],
      "source": [
        "valor = int(input())"
      ]
    },
    {
      "cell_type": "markdown",
      "id": "18876bb7",
      "metadata": {
        "id": "18876bb7"
      },
      "source": [
        "### Ejercicio Fahrenheit\n",
        "Vamos a transformar la temperatura que ingrese el usuario en Fahrenheir y mostraremos la salida en celsius por pantalla"
      ]
    },
    {
      "cell_type": "code",
      "execution_count": null,
      "id": "e607696b",
      "metadata": {
        "id": "e607696b",
        "outputId": "40f4b391-8fa1-4a31-d2d9-7a10c7fee615"
      },
      "outputs": [
        {
          "name": "stdout",
          "output_type": "stream",
          "text": [
            "78\n",
            "La temperatura es de 25.555555555555557 celsius\n"
          ]
        }
      ],
      "source": [
        "fahrenheit = int(input())\n",
        "celsius = (fahrenheit + 40) / 1.8 - 40\n",
        "print(\"La temperatura es de {} celsius\".format(celsius))\n"
      ]
    },
    {
      "cell_type": "markdown",
      "id": "70d7db67",
      "metadata": {
        "id": "70d7db67"
      },
      "source": [
        "## Conversion de tipos de variables\n",
        "Utilizando las funciones int(), float() y str(), se pueden convertir las variables de un tipo a otro. \n",
        "Cuidado al convertir flotantes a enteros, o cadenas de caracteres a enteros o flotantes.\n"
      ]
    },
    {
      "cell_type": "code",
      "execution_count": null,
      "id": "0073c240",
      "metadata": {
        "id": "0073c240",
        "outputId": "d6405703-c9ed-4407-d71f-a9bd54666d9d"
      },
      "outputs": [
        {
          "name": "stdout",
          "output_type": "stream",
          "text": [
            "<class 'int'>\n",
            "<class 'float'>\n",
            "\n",
            "\n",
            "1\n",
            "<class 'str'>\n",
            "\n",
            "\n"
          ]
        }
      ],
      "source": [
        "entero = 1\n",
        "flotante = 1.9\n",
        "cadena = '1'\n",
        "cadena2 = '1.0'\n",
        "cadena3 = 'Hello, world!'\n",
        "\n",
        "print(type(entero))\n",
        "entero_new = float(entero)\n",
        "print(type(entero_new))\n",
        "print('\\n')\n",
        "print(str(entero))\n",
        "entero_str = str(entero)\n",
        "print(type(entero_str))\n",
        "print('\\n')\n",
        "\n"
      ]
    },
    {
      "cell_type": "code",
      "execution_count": null,
      "id": "b8a43a71",
      "metadata": {
        "id": "b8a43a71",
        "outputId": "1e8dbeb7-fa6b-4c9e-b20b-3e3292247ff0"
      },
      "outputs": [
        {
          "name": "stdout",
          "output_type": "stream",
          "text": [
            "1\n",
            "1.9\n"
          ]
        }
      ],
      "source": [
        "\n",
        "flotante = 1.9\n",
        "print(int(flotante))\n",
        "print(str(flotante))\n"
      ]
    },
    {
      "cell_type": "code",
      "execution_count": null,
      "id": "e7cc253e",
      "metadata": {
        "id": "e7cc253e",
        "outputId": "3e02b0e2-9970-46bd-a976-b10bf34036fc"
      },
      "outputs": [
        {
          "name": "stdout",
          "output_type": "stream",
          "text": [
            "1\n"
          ]
        },
        {
          "data": {
            "text/plain": [
              "int"
            ]
          },
          "execution_count": 40,
          "metadata": {},
          "output_type": "execute_result"
        }
      ],
      "source": [
        "print(int(cadena))\n",
        "cadena = int(cadena)\n",
        "type(cadena)"
      ]
    },
    {
      "cell_type": "code",
      "execution_count": null,
      "id": "2a4cb8f5",
      "metadata": {
        "id": "2a4cb8f5",
        "outputId": "8896ad46-0745-471e-bf87-4ded0072fa75"
      },
      "outputs": [
        {
          "data": {
            "text/plain": [
              "float"
            ]
          },
          "execution_count": 41,
          "metadata": {},
          "output_type": "execute_result"
        }
      ],
      "source": [
        "cadena = float(cadena)\n",
        "type(cadena)"
      ]
    },
    {
      "cell_type": "code",
      "execution_count": null,
      "id": "7c30ac79",
      "metadata": {
        "id": "7c30ac79",
        "outputId": "4397279b-ff7a-42d5-ef73-5cf0bd5adf8a"
      },
      "outputs": [
        {
          "name": "stdout",
          "output_type": "stream",
          "text": [
            "1\n",
            "1\n",
            "\n",
            "\n"
          ]
        }
      ],
      "source": [
        "cadena2= 1\n",
        "print(cadena2)\n",
        "# print(int(cadena2)) #Esta línea de código da error.\n",
        "print(int(float(cadena2)))\n",
        "print('\\n')\n",
        "# print(int(cadena3)) #Esta línea de código da error.\n",
        "# print(float(cadena3)) #Esta línea de código da error."
      ]
    },
    {
      "cell_type": "markdown",
      "id": "292c3a2a",
      "metadata": {
        "id": "292c3a2a"
      },
      "source": [
        "## Operaciones de comparación\n",
        "\n",
        "Operador | Nombre | Ejemplo | Resultado |\n",
        ":--------: | :-------:| :--------: | :--------:\n",
        "**==** | Igual a | 5 == 5 | True\n",
        "**!=** | Distinto a | 5 != 5 | False\n",
        "**>** | Mayor a | 6 > 6 | False\n",
        "**>=** | Mayor o igual a | 6 >= 6 | True\n",
        "**<**  | Menor a | 45 < 50 | True\n",
        "**<=**  | Menor o igual a | 45 <= 44 | False\n",
        "\n",
        "### Ejemplo para evaluar si un valor es mayor que otro usando **if**\n"
      ]
    },
    {
      "cell_type": "code",
      "execution_count": null,
      "id": "aefc7c53",
      "metadata": {
        "id": "aefc7c53",
        "outputId": "1f335faa-f8d8-451a-9707-459198018003"
      },
      "outputs": [
        {
          "name": "stdout",
          "output_type": "stream",
          "text": [
            "ingrese valor 1: 100\n"
          ]
        }
      ],
      "source": [
        "valor1 = int(input(\"ingrese valor 1: \"))"
      ]
    },
    {
      "cell_type": "code",
      "execution_count": null,
      "id": "8845cfe1",
      "metadata": {
        "id": "8845cfe1",
        "outputId": "e7c66eb7-6b59-486f-fa2c-0936f5b7f603"
      },
      "outputs": [
        {
          "name": "stdout",
          "output_type": "stream",
          "text": [
            "ingrese valor 2: 50\n"
          ]
        }
      ],
      "source": [
        "valor2 = int(input(\"ingrese valor 2: \"))"
      ]
    },
    {
      "cell_type": "code",
      "execution_count": null,
      "id": "8accb27a",
      "metadata": {
        "id": "8accb27a",
        "outputId": "c6a28d46-c790-41d8-8a59-a1dd8632c836"
      },
      "outputs": [
        {
          "name": "stdout",
          "output_type": "stream",
          "text": [
            "valor1 100 es mayor\n"
          ]
        }
      ],
      "source": [
        "if valor1 > valor2:\n",
        "    print(\"valor1 {} es mayor\".format(valor1))\n",
        "else:\n",
        "    print(\"no es mayor\")"
      ]
    },
    {
      "cell_type": "markdown",
      "id": "c3defcf0",
      "metadata": {
        "id": "c3defcf0"
      },
      "source": [
        "### Ejemplo para evaluar si un valor es mayor que otro usando **if** y **else** en caso contrario"
      ]
    },
    {
      "cell_type": "code",
      "execution_count": null,
      "id": "9470f53b",
      "metadata": {
        "id": "9470f53b",
        "outputId": "315bb17c-6bd1-4ddd-98cc-9cd661b77cc4"
      },
      "outputs": [
        {
          "name": "stdout",
          "output_type": "stream",
          "text": [
            "ingrese valor 1: 10\n"
          ]
        }
      ],
      "source": [
        "valor1 = int(input(\"ingrese valor 1: \"))"
      ]
    },
    {
      "cell_type": "code",
      "execution_count": null,
      "id": "8bb54753",
      "metadata": {
        "id": "8bb54753",
        "outputId": "3a24777a-8b84-4699-b100-099f12c6eaef"
      },
      "outputs": [
        {
          "name": "stdout",
          "output_type": "stream",
          "text": [
            "ingrese valor 2: 30\n"
          ]
        }
      ],
      "source": [
        "valor2 = int(input(\"ingrese valor 2: \"))"
      ]
    },
    {
      "cell_type": "code",
      "execution_count": null,
      "id": "1677caf6",
      "metadata": {
        "id": "1677caf6",
        "outputId": "9742a836-dc76-45e7-890c-10d09cc46adc"
      },
      "outputs": [
        {
          "name": "stdout",
          "output_type": "stream",
          "text": [
            "valor2 30 es mayor\n"
          ]
        }
      ],
      "source": [
        "if valor1 >= valor2:\n",
        "    if valor1 == valor2:\n",
        "        print(\"son iguales\")\n",
        "    elif valor1 > valor2:\n",
        "        print(\"valor1 {} es mayor\".format(valor1))\n",
        "else:\n",
        "    print(\"valor2 {} es mayor\".format(valor2))"
      ]
    },
    {
      "cell_type": "markdown",
      "id": "01ab6c8f",
      "metadata": {
        "id": "01ab6c8f"
      },
      "source": [
        "### ¿ Que pasa si ambos números son iguales?"
      ]
    },
    {
      "cell_type": "code",
      "execution_count": null,
      "id": "f13e324c",
      "metadata": {
        "id": "f13e324c",
        "outputId": "2d561460-856f-4b34-d503-4bbcd9a6b38a"
      },
      "outputs": [
        {
          "name": "stdout",
          "output_type": "stream",
          "text": [
            "valor2 300 es mayor\n"
          ]
        }
      ],
      "source": [
        "valor1 = 200\n",
        "valor2 = 300\n",
        "if valor1 > valor2:\n",
        "    print(\"valor1 {} es mayor\".format(valor1))\n",
        "else:\n",
        "    if valor1 == valor2:\n",
        "        print(\"Ambos valores son iguales\")\n",
        "    else:\n",
        "        print(\"valor2 {} es mayor\".format(valor2))"
      ]
    },
    {
      "cell_type": "markdown",
      "id": "c1507cc5",
      "metadata": {
        "id": "c1507cc5"
      },
      "source": [
        "### Este código se puede reescribir usando elif"
      ]
    },
    {
      "cell_type": "code",
      "execution_count": null,
      "id": "d99bc874",
      "metadata": {
        "id": "d99bc874",
        "outputId": "047ca343-4aae-4c42-f8ed-03fd05767904"
      },
      "outputs": [
        {
          "name": "stdout",
          "output_type": "stream",
          "text": [
            "Ambos valores son iguales\n"
          ]
        }
      ],
      "source": [
        "valor1 = 100\n",
        "valor2 = 100\n",
        "if valor1 > valor2:\n",
        "    print(\"valor1 {} es mayor\".format(valor1))\n",
        "elif valor1 == valor2:\n",
        "    print(\"Ambos valores son iguales\")\n",
        "else:\n",
        "    print(\"valor2 {} es mayor\".format(valor2))"
      ]
    },
    {
      "cell_type": "code",
      "execution_count": null,
      "id": "ca087a47",
      "metadata": {
        "id": "ca087a47"
      },
      "outputs": [],
      "source": [
        ""
      ]
    }
  ],
  "metadata": {
    "kernelspec": {
      "display_name": "Python 3",
      "language": "python",
      "name": "python3"
    },
    "language_info": {
      "codemirror_mode": {
        "name": "ipython",
        "version": 3
      },
      "file_extension": ".py",
      "mimetype": "text/x-python",
      "name": "python",
      "nbconvert_exporter": "python",
      "pygments_lexer": "ipython3",
      "version": "3.8.13"
    },
    "colab": {
      "name": "Clase3-IntroduccionPython1_ok.ipynb",
      "provenance": []
    }
  },
  "nbformat": 4,
  "nbformat_minor": 5
}